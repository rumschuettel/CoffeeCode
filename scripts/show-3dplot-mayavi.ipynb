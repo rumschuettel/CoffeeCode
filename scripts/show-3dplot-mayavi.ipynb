{
 "cells": [
  {
   "cell_type": "code",
   "execution_count": 1,
   "metadata": {},
   "outputs": [],
   "source": [
    "import numpy as np\n",
    "import math"
   ]
  },
  {
   "cell_type": "markdown",
   "metadata": {},
   "source": [
    "## Reference Data"
   ]
  },
  {
   "cell_type": "code",
   "execution_count": null,
   "metadata": {},
   "outputs": [],
   "source": []
  },
  {
   "cell_type": "markdown",
   "metadata": {},
   "source": [
    "## Run Data"
   ]
  },
  {
   "cell_type": "code",
   "execution_count": 2,
   "metadata": {},
   "outputs": [],
   "source": [
    "def better_mask_for(a, b):\n",
    "    sa = np.sum(a, axis=-1)\n",
    "    sb = np.sum(b, axis=-1)\n",
    "    return sa > sb\n",
    "\n",
    "def max_diff_for(a, b):\n",
    "    sa = np.sum(a, axis=-1)\n",
    "    sb = np.sum(b, axis=-1)\n",
    "    \n",
    "    diff = sa-sb\n",
    "    min_diff = np.min(diff)\n",
    "    max_diff = np.max(diff)\n",
    "    \n",
    "    min_pos = np.amin(diff)\n",
    "    max_pos = np.amax(diff)\n",
    "    \n",
    "    print(\"min\", min_diff, \"max\", max_diff)\n",
    "    \n",
    "    return diff.astype(\"float\"), min_diff, max_diff, min_pos, max_pos\n",
    "\n",
    "# which of the above graph's points protrude further\n",
    "def maximum_qs(qs_list, graph_list=None):\n",
    "    best = np.zeros_like(qs_list[0])\n",
    "    \n",
    "    if graph_list is None:\n",
    "        for qs in qs_list:\n",
    "            better_mask = better_mask_for(qs, best)\n",
    "            best[better_mask] = qs[better_mask]\n",
    "\n",
    "        return best\n",
    "    else:\n",
    "        best_graphs = np.zeros_like(graph_list[0]) - 1\n",
    "        best_file_idx = np.zeros_like(graph_list[0], dtype=int) - 1\n",
    "        \n",
    "        for qs, gr, i in zip(qs_list, graph_list, range(len(graph_list))):\n",
    "            better_mask = better_mask_for(qs, best)\n",
    "        \n",
    "            best[better_mask] = qs[better_mask]\n",
    "            best_graphs[better_mask] = gr[better_mask]\n",
    "            best_file_idx[better_mask] = i\n",
    "    \n",
    "        return best, best_graphs, best_file_idx"
   ]
  },
  {
   "cell_type": "code",
   "execution_count": 3,
   "metadata": {},
   "outputs": [],
   "source": [
    "import glob, re\n",
    "import itertools, operator"
   ]
  },
  {
   "cell_type": "markdown",
   "metadata": {},
   "source": [
    "### All Graphs"
   ]
  },
  {
   "cell_type": "code",
   "execution_count": 4,
   "metadata": {},
   "outputs": [
    {
     "name": "stdout",
     "output_type": "stream",
     "text": [
      "6 30\n",
      "5 21\n",
      "4 6\n",
      "2 1\n",
      "3 2\n"
     ]
    }
   ],
   "source": [
    "files = [(fn, int(re.findall(r\"kSys(\\d+)\", fn)[0])) for fn in glob.glob(\"./volumes/all-graphs/*.npz\")]\n",
    "all_graph_data = {}\n",
    "all_graph_files = {}\n",
    "all_graph_id = {}\n",
    "all_graph_file = {}\n",
    "all_graph_ctr = {}\n",
    "\n",
    "for (fn, kSys) in files:\n",
    "    if not kSys in all_graph_data:\n",
    "        all_graph_data[kSys] = []\n",
    "        all_graph_id[kSys] = []\n",
    "        all_graph_files[kSys] = []\n",
    "        all_graph_ctr[kSys] = 0\n",
    "    npz = np.load(fn)\n",
    "    all_graph_data[kSys].append(npz[\"qs\"])\n",
    "    all_graph_id[kSys].append(npz[\"graph\"])\n",
    "    all_graph_files[kSys].append(fn)\n",
    "    all_graph_ctr[kSys] += 1\n",
    "    \n",
    "for key in all_graph_data:\n",
    "    all_graph_data[key], all_graph_id[key], all_graph_file[key] = maximum_qs(all_graph_data[key], all_graph_id[key])\n",
    "    print(key, all_graph_ctr[key])"
   ]
  },
  {
   "cell_type": "code",
   "execution_count": 5,
   "metadata": {},
   "outputs": [],
   "source": [
    "import tarfile\n",
    "\n",
    "_load_adjm_list_cache = {}\n",
    "def load_adjm_list(fn):\n",
    "    if fn in _load_adjm_list_cache:\n",
    "        return _load_adjm_list_cache[fn]\n",
    "    \n",
    "    l = [None]\n",
    "    with tarfile.open(fn, mode=\"r\") as archive:\n",
    "        for file_meta in archive:\n",
    "            if file_meta.type != tarfile.REGTYPE:\n",
    "                continue\n",
    "            \n",
    "            adjm_matches = re.findall(r\"([0-1]+)\\.json\\.gz\", file_meta.name)\n",
    "            assert len(adjm_matches) == 1, \"cannot find adjm\"\n",
    "            \n",
    "            KTOT = math.sqrt(len(adjm_matches[0]))\n",
    "            assert KTOT.is_integer(), \"adjacency matrix not square\"\n",
    "            KTOT = int(KTOT)\n",
    "            if KTOT > 8:\n",
    "                continue\n",
    "            \n",
    "            l.append(adjm_matches[0])\n",
    "            \n",
    "    _load_adjm_list_cache[fn] = l\n",
    "    return l\n",
    "            \n",
    "\n",
    "def best_graph_for(kSys, file_idx, entry_idx):\n",
    "    fn = all_graph_files[kSys][file_idx]\n",
    "    tag = re.findall(r\"all-graphs-([^-]+)\", fn)[0]\n",
    "    fn = glob.glob(f\"./results/all-graphs/{tag}/*{tag}*.lambdas.tar.gz\")[0]\n",
    "    \n",
    "    return load_adjm_list(fn)[entry_idx]\n",
    "    \n",
    "\n",
    "all_graph_best_swatch_lut_ = {}\n",
    "for k in [2,3,4,5]:\n",
    "    all_graph_best_swatch_lut_[k] = {\n",
    "        pair: best_graph_for(k, *pair) for pair in set(zip(all_graph_file[k], all_graph_id[k]))\n",
    "    }"
   ]
  },
  {
   "cell_type": "code",
   "execution_count": 12,
   "metadata": {},
   "outputs": [
    {
     "name": "stdout",
     "output_type": "stream",
     "text": [
      "{\"0000111100001111000011110000111111110001111100001111000011111000\", \"001101000111100011110001011001111110\", \"000010000010000010000010111101000010\", \"0001100000001001000010101000100011110101000010000010000001001000\", \"0011111100111000110110001110100011110000100000001000000010000000\", \"0000100100001001000010010000111111110011000100000001100011111000\", \"001110000010100110101010111101000010\", \"0001111100001000000010001000000011100000100000001000000010000000\", \"0011100100011011100011101100000111100011001000000110100011011000\", \"011111101111110111111011111101111110\", \"001010000110100010010010111101000010\", \"0001101100011011000110111110011111100111000110001111100011111000\", \"0011111100111011110110011110100111110001100000001100000011111000\", \"000110000110000110111001111000000100\", \"0011000100011000100011111100000001100000001000000010000010100000\", \"000111000111000111111000111000111000\", \"0011100000011111100110001110100011110000010000000100000001000000\", \"0011100000001111100110001010100011110001010000000100000001001000\", \"0001111100011000000010001100000011100000100000001000000010000000\", \"0001101100001000000010001000110111110001000100001000000010011000\", \"0001111100010000000010001100100010110000100000001000000010000000\", \"0000111100001111000011110000111111110000111100001111000011110000\", \"0011000000111110001001100000011000001000000100000\", \"000011000011000011000011111101111110\", \"0001111100001000000010001000000111100000100000001000000010010000\", \"0001111100010001000010011100111010110111100110001001100011101000\", \"000110000110000110111010111101000010\"}\n"
     ]
    }
   ],
   "source": [
    "print(\"{\" + \", \".join([f'\"{v}\"' for v in all_graph_best_swatch_lut_[5].values()]) + \"}\")"
   ]
  },
  {
   "cell_type": "code",
   "execution_count": 13,
   "metadata": {},
   "outputs": [],
   "source": [
    "# lut's from MM for graph isomorphism mapping\n",
    "graph_isom_mapping = {}\n",
    "graph_isom_mapping[2] = {\"0111101111001100\": \"0011001111011110\", \"011100100\": \"001001110\", \"0101101101001100\": \"0001001101011110\"}\n",
    "graph_isom_mapping[3] = {\"001001001111110111011000011000111000\": \"000101000011000011100011011101111110\", \"0011001111011110\": \"0011001111011110\", \"0111101111011110\": \"0111101111011110\", \"0010001011010010\": \"0001000100011110\", \"0011100111110001100011000\": \"0001100011000111110011100\", \"001011001111110101011000110000111000\": \"000011000101000111011010101101111010\", \"001111001111110001110000110000111000\": \"000011000011000111001011111100111100\", \"0111110100110001000010000\": \"0000100001000110010111110\", \"001111001011110000100000110000110000\": \"000001000011000011000011011100111100\"}\n",
    "graph_isom_mapping[4] = {\"0011111100111111110000011100000111000000110000001100000011110000\": \"0000001100000011000000110000011100000111000110111111110011111100\", \"0001000000010000000100001110111100010000000100000001000000010000\": \"0000000100000001000000010000000100000001000000010000000111111110\", \"0001011100011001000110101110100001110000100000001010000011000000\": \"0000000100001001000001010000111001010010001100100001110111100010\", \"0011000000010111100100001110101100010000010000000101000001010000\": \"0000001000000001000100010010000100000011000000111000110101111110\", \"0111111110111111110111111110111111110000111100001111000011110000\": \"0000111100001111000011110000111111110111111110111111110111111110\", \"0001111100011111000111111110111111110000111100001111000011110000\": \"0000111100001111000011110000111111110001111100011111000111111110\", \"0111000101100011010001110111000100000010000001000\": \"0000001000000100000010000111000101100011011111110\", \"0001111000111100011111110000111000011100001110000\": \"0000111000011100001110000111111100011110001111000\", \"001111001111110011110011111100111100\": \"011110101101110011110011101101011110\", \"0001000011000101110001000\": \"0001000001000011000101110\", \"000111000111000111111001111000111100\": \"000111000111000111111000111001111010\", \"0001111100010000000100001110001110000000100000001001000010010000\": \"0000001000000010000000010000000100000011000000111100110100111110\", \"0011000000110111110010011100000000100000010000000100000001100000\": \"0000001000000001000000010000101000010001000000111001010101101110\", \"011111101111110101111011110100111100\": \"000111001111010111111011111101111110\", \"0001001100011101000111111110000101100000011000001010000011110000\": \"0000100100001001000100010010011011000110000110110001110111100110\", \"001100000111100011110000011000011000\": \"000011000011000110001001111000110100\", \"0011000000110000110100001110111100010000000100000001000000010000\": \"0000000100000001000000010000000100000011000000110000110111111110\", \"001100000111100100111000010000010000\": \"000001000001000110001010001101110010\", \"0011000000010000100011111100000000100000001000000010000000100000\": \"0000010000000001000000010000000100000001100000100000010101111010\"}\n",
    "graph_isom_mapping[5] = {\"0000111100001111000011110000111111110001111100001111000011111000\": \"0000111100001111000011110000111111110000111100001111000111110010\", \"001101000111100011110001011001111110\": \"011001100101100011010011001101111110\", \"000010000010000010000010111101000010\": \"000001000001000001000001000001111110\", \"0001100000001001000010101000100011110101000010000010000001001000\": \"0000001000000001000100010010000100000101000010011000000101111110\", \"0011111100111000110110001110100011110000100000001000000010000000\": \"0000000100000001000000010000111000010111000110110001110111101110\", \"0000100100001001000010010000111111110011000100000001100011111000\": \"0000010000000101000000110000001100000011110000110011110101111110\", \"001110000010100110101010111101000010\": \"000001000001000111001011001101111110\", \"0001111100001000000010001000000011100000100000001000000010000000\": \"0000001000000010000000010000000100000001000000011100000100111110\", \"0011100100011011100011101100000111100011001000000110100011011000\": \"0000001000011100000001110100110101010011011100011010100100111110\", \"011111101111110111111011111101111110\": \"011111101111110111111011111101111110\", \"001010000110100010010010111101000010\": \"000001001001010001000011000101111110\", \"0001101100011011000110111110011111100111000110001111100011111000\": \"0000001100001111000011110000111101110011011100111111110011111100\", \"0011111100111011110110011110100111110001100000001100000011111000\": \"0000000100100001010111100010111100110111001110110011110111011110\", \"000110000110000110111001111000000100\": \"000001000011000011000011011100111100\", \"0011000100011000100011111100000001100000001000000010000010100000\": \"0000000100000001000110000010001000100001000000110001010111001110\", \"000111000111000111111000111000111000\": \"001110001110110001110001110001001110\", \"0011100000011111100110001110100011110000010000000100000001000000\": \"0000000100000001000000010000111000010110000110110001110111100110\", \"0011100000001111100110001010100011110001010000000100000001001000\": \"0000001000000010000000110000110100010101000110011110000100111110\", \"0001111100011000000010001100000011100000100000001000000010000000\": \"0000001000000001000000010000000100000110000010011000100101110110\", \"0001101100001000000010001000110111110001000100001000000010011000\": \"0000010000000010000000010000000100000111100010110100110100111110\", \"0001111100010000000010001100100010110000100000001000000010000000\": \"0000010000000010000000010000000100000001100000110100010100111110\", \"0000111100001111000011110000111111110000111100001111000011110000\": \"0001111000011110000111101110000111100001111000011110000100011110\", \"0011000000111110001001100000011000001000000100000\": \"0000001000000100011000010010001000100010011100110\", \"000011000011000011000011111101111110\": \"000011000011000011000011111101111110\", \"0001111100001000000010001000000111100000100000001000000010010000\": \"0000001000000010000000010000000100000101000010011100000100111110\", \"0001111100010001000010011100111010110111100110001001100011101000\": \"0000110000001001000001110000011111000011101100110011110101111110\", \"000110000110000110111010111101000010\": \"000001000011000011000011011101111110\"}"
   ]
  },
  {
   "cell_type": "code",
   "execution_count": 14,
   "metadata": {},
   "outputs": [
    {
     "name": "stdout",
     "output_type": "stream",
     "text": [
      "2 {'001001110': 0, '0011001111011110': 1, '0001001101011110': 2}\n",
      "2 {(0, 1): 1, (0, 3): 0, (0, 5): 2}\n",
      "2 {1: '0011001111011110', 0: '001001110', 2: '0001001101011110'}\n",
      "3 {'000101000011000011100011011101111110': 0, '0001000100011110': 1, '0001100011000111110011100': 2, '000011000011000111001011111100111100': 3, '0111101111011110': 4, '0000100001000110010111110': 5, '0011001111011110': 6, '000001000011000011000011011100111100': 7, '000011000101000111011010101101111010': 8}\n",
      "3 {(0, 1): 0, (0, 15): 6, (1, 87): 4, (0, 25): 1, (0, 12): 2, (0, 5): 8, (0, 3): 3, (1, 11): 5, (0, 23): 7}\n",
      "3 {0: '000101000011000011100011011101111110', 6: '0011001111011110', 4: '0111101111011110', 1: '0001000100011110', 2: '0001100011000111110011100', 8: '000011000101000111011010101101111010', 3: '000011000011000111001011111100111100', 5: '0000100001000110010111110', 7: '000001000011000011000011011100111100'}\n",
      "4 {'011110101101110011110011101101011110': 0, '0000000100001001000001010000111001010010001100100001110111100010': 1, '0001000001000011000101110': 2, '0000000100000001000000010000000100000001000000010000000111111110': 3, '000011000011000110001001111000110100': 4, '0000001000000010000000010000000100000011000000111100110100111110': 5, '0000010000000001000000010000000100000001100000100000010101111010': 6, '0000001000000001000000010000101000010001000000111001010101101110': 7, '0000100100001001000100010010011011000110000110110001110111100110': 8, '0000111100001111000011110000111111110001111100011111000111111110': 9, '0000001000000100000010000111000101100011011111110': 10, '0000001000000001000100010010000100000011000000111000110101111110': 11, '0000001100000011000000110000011100000111000110111111110011111100': 12, '000001000001000110001010001101110010': 13, '0000111100001111000011110000111111110111111110111111110111111110': 14, '0000000100000001000000010000000100000011000000110000110111111110': 15, '0000111000011100001110000111111100011110001111000': 16, '000111000111000111111000111001111010': 17, '000111001111010111111011111101111110': 18}\n",
      "4 {(2, 51): 12, (0, 466): 3, (0, 7): 1, (4, 31): 11, (3, 121): 14, (0, 595): 9, (3, 51): 10, (0, 1412): 16, (2, 923): 0, (0, 55): 2, (0, 58): 17, (0, 12): 5, (2, 10): 7, (3, 36): 18, (0, 1): 8, (5, 297): 4, (1, 601): 15, (4, 494): 13, (5, 857): 6}\n",
      "4 {12: '0000001100000011000000110000011100000111000110111111110011111100', 3: '0000000100000001000000010000000100000001000000010000000111111110', 1: '0000000100001001000001010000111001010010001100100001110111100010', 11: '0000001000000001000100010010000100000011000000111000110101111110', 14: '0000111100001111000011110000111111110111111110111111110111111110', 9: '0000111100001111000011110000111111110001111100011111000111111110', 10: '0000001000000100000010000111000101100011011111110', 16: '0000111000011100001110000111111100011110001111000', 0: '011110101101110011110011101101011110', 2: '0001000001000011000101110', 17: '000111000111000111111000111001111010', 5: '0000001000000010000000010000000100000011000000111100110100111110', 7: '0000001000000001000000010000101000010001000000111001010101101110', 18: '000111001111010111111011111101111110', 8: '0000100100001001000100010010011011000110000110110001110111100110', 4: '000011000011000110001001111000110100', 15: '0000000100000001000000010000000100000011000000110000110111111110', 13: '000001000001000110001010001101110010', 6: '0000010000000001000000010000000100000001100000100000010101111010'}\n",
      "5 {'0000000100000001000110000010001000100001000000110001010111001110': 0, '0000000100100001010111100010111100110111001110110011110111011110': 1, '011001100101100011010011001101111110': 2, '000001000011000011000011011101111110': 3, '000001000011000011000011011100111100': 4, '000011000011000011000011111101111110': 5, '0000000100000001000000010000111000010111000110110001110111101110': 6, '0000001000011100000001110100110101010011011100011010100100111110': 7, '0000110000001001000001110000011111000011101100110011110101111110': 8, '0000010000000010000000010000000100000001100000110100010100111110': 9, '0000001100001111000011110000111101110011011100111111110011111100': 10, '0000111100001111000011110000111111110000111100001111000111110010': 11, '000001001001010001000011000101111110': 12, '0001111000011110000111101110000111100001111000011110000100011110': 13, '0000001000000010000000010000000100000001000000011100000100111110': 14, '0000001000000010000000010000000100000101000010011100000100111110': 15, '000001000001000001000001000001111110': 16, '0000010000000101000000110000001100000011110000110011110101111110': 17, '0000001000000001000100010010000100000101000010011000000101111110': 18, '0000000100000001000000010000111000010110000110110001110111100110': 19, '0000010000000010000000010000000100000111100010110100110100111110': 20, '001110001110110001110001110001001110': 21, '000001000001000111001011001101111110': 22, '0000001000000100011000010010001000100010011100110': 23, '0000001000000010000000110000110100010101000110011110000100111110': 24, '0000001000000001000000010000000100000110000010011000100101110110': 25, '011111101111110111111011111101111110': 26}\n",
      "5 {(3, 911): 11, (9, 1263): 2, (3, 215): 16, (2, 268): 18, (10, 1601): 6, (3, 263): 17, (16, 664): 22, (15, 2181): 14, (7, 94): 7, (13, 1395): 26, (18, 1106): 12, (14, 485): 10, (10, 679): 1, (14, 1683): 4, (9, 98): 0, (14, 3021): 21, (19, 1410): 19, (16, 699): 24, (11, 545): 25, (2, 441): 20, (0, 926): 9, (3, 977): 13, (9, 97): 23, (3, 1323): 5, (15, 331): 15, (0, 2): 8, (4, 32): 3}\n",
      "5 {11: '0000111100001111000011110000111111110000111100001111000111110010', 2: '011001100101100011010011001101111110', 16: '000001000001000001000001000001111110', 18: '0000001000000001000100010010000100000101000010011000000101111110', 6: '0000000100000001000000010000111000010111000110110001110111101110', 17: '0000010000000101000000110000001100000011110000110011110101111110', 22: '000001000001000111001011001101111110', 14: '0000001000000010000000010000000100000001000000011100000100111110', 7: '0000001000011100000001110100110101010011011100011010100100111110', 26: '011111101111110111111011111101111110', 12: '000001001001010001000011000101111110', 10: '0000001100001111000011110000111101110011011100111111110011111100', 1: '0000000100100001010111100010111100110111001110110011110111011110', 4: '000001000011000011000011011100111100', 0: '0000000100000001000110000010001000100001000000110001010111001110', 21: '001110001110110001110001110001001110', 19: '0000000100000001000000010000111000010110000110110001110111100110', 24: '0000001000000010000000110000110100010101000110011110000100111110', 25: '0000001000000001000000010000000100000110000010011000100101110110', 20: '0000010000000010000000010000000100000111100010110100110100111110', 9: '0000010000000010000000010000000100000001100000110100010100111110', 13: '0001111000011110000111101110000111100001111000011110000100011110', 23: '0000001000000100011000010010001000100010011100110', 5: '000011000011000011000011111101111110', 15: '0000001000000010000000010000000100000101000010011100000100111110', 8: '0000110000001001000001110000011111000011101100110011110101111110', 3: '000001000011000011000011011101111110'}\n"
     ]
    }
   ],
   "source": [
    "all_graph_best_swatch = {}\n",
    "all_graph_best_swatch_lut = {}\n",
    "for k in all_graph_best_swatch_lut_:\n",
    "    isom_graph_to_swatch = set(graph_isom_mapping[k].values())\n",
    "    isom_graph_to_swatch = dict(zip(isom_graph_to_swatch, range(len(isom_graph_to_swatch))))\n",
    "    print(k, isom_graph_to_swatch)\n",
    "    \n",
    "    pair_to_swatch = {\n",
    "        pair: isom_graph_to_swatch[\n",
    "            graph_isom_mapping[k][\n",
    "                all_graph_best_swatch_lut_[k][pair]\n",
    "            ]\n",
    "        ]\n",
    "        for pair in all_graph_best_swatch_lut_[k]\n",
    "    }\n",
    "    print(k, pair_to_swatch)\n",
    "    \n",
    "    all_graph_best_swatch[k] = np.array([\n",
    "        pair_to_swatch[pair] for pair in zip(all_graph_file[k], all_graph_id[k])\n",
    "    ])\n",
    "    \n",
    "    # reverse lookup table to be from swatch > graph\n",
    "    all_graph_best_swatch_lut[k] = dict(\n",
    "        (pair_to_swatch[pair], graph_isom_mapping[k][\n",
    "            all_graph_best_swatch_lut_[k][pair]\n",
    "        ])\n",
    "        for pair in pair_to_swatch\n",
    "    )\n",
    "    \n",
    "    print(k, all_graph_best_swatch_lut[k])\n",
    "    "
   ]
  },
  {
   "cell_type": "code",
   "execution_count": 55,
   "metadata": {},
   "outputs": [],
   "source": [
    "all_graph_best_swatch_orig_lut = {}\n",
    "for k in all_graph_best_swatch_lut:\n",
    "    qs_swatch_lut = all_graph_best_swatch_lut[k]\n",
    "    \n",
    "    orig_lut = {}\n",
    "    \n",
    "    for s in qs_swatch_lut:\n",
    "        adjm = qs_swatch_lut[s]\n",
    "        for orig in graph_isom_mapping[k]:\n",
    "            if graph_isom_mapping[k][orig] == adjm:\n",
    "                orig_lut[s] = orig\n",
    "                break\n",
    "        \n",
    "    all_graph_best_swatch_orig_lut[k] = orig_lut\n",
    "    assert len(orig_lut) == len(all_graph_best_swatch_lut[k]), \"map could not be inverted\""
   ]
  },
  {
   "cell_type": "code",
   "execution_count": 73,
   "metadata": {},
   "outputs": [],
   "source": [
    "qs_comp = all_graph_data[5]\n",
    "qs_swatch = all_graph_best_swatch[5]\n",
    "qs_swatch_lut = all_graph_best_swatch_orig_lut[5]\n",
    "x,y,z = qs_comp.transpose()"
   ]
  },
  {
   "cell_type": "markdown",
   "metadata": {
    "collapsed": true
   },
   "source": [
    "## Rep Codes"
   ]
  },
  {
   "cell_type": "code",
   "execution_count": 210,
   "metadata": {},
   "outputs": [],
   "source": [
    "files = [(fn, int(re.findall(r\"-in-(\\d+)\", fn)[0])) for fn in glob.glob(\"./volumes/concat_codes/*1-in-*.npz\")]\n",
    "rep_graph_data = []\n",
    "rep_graph_swatch = []\n",
    "for (fn, kk) in files:\n",
    "    if int(kk) == 1: continue\n",
    "    npz = np.load(fn)\n",
    "    rep_graph_data.append(npz[\"qs\"])\n",
    "    rep_graph_swatch.append(npz[\"graph\"]*0 + kk)\n",
    "rep_graph_data, rep_graph_swatch, _ = maximum_qs(rep_graph_data, rep_graph_swatch)"
   ]
  },
  {
   "cell_type": "code",
   "execution_count": 16,
   "metadata": {},
   "outputs": [],
   "source": [
    "qs_comp = rep_graph_data\n",
    "qs_swatch = rep_graph_swatch\n",
    "x,y,z = qs_comp.transpose()"
   ]
  },
  {
   "cell_type": "markdown",
   "metadata": {},
   "source": [
    "## Concat Codes"
   ]
  },
  {
   "cell_type": "code",
   "execution_count": 209,
   "metadata": {},
   "outputs": [],
   "source": [
    "cat_graph_files = sorted(glob.glob(\"./volumes/concat_codes/*[2|3|4|5|6]-in-*.npz\"), key=lambda s: tuple([\n",
    "    int(k) for k in re.findall(r\"(\\d+)-in-(\\d+)\", s)[0]\n",
    "]))\n",
    "cat_graph_data = []\n",
    "cat_graph_swatch = []\n",
    "for i, fn in enumerate(cat_graph_files):\n",
    "    npz = np.load(fn)\n",
    "    cat_graph_data.append(npz[\"qs\"])\n",
    "    cat_graph_swatch.append(npz[\"graph\"]*0 + i)\n",
    "    \n",
    "cat_graph_data, cat_graph_swatch, _ = maximum_qs(cat_graph_data, cat_graph_swatch)"
   ]
  },
  {
   "cell_type": "code",
   "execution_count": 198,
   "metadata": {},
   "outputs": [
    {
     "data": {
      "text/plain": [
       "['./volumes/concat_codes/concatcodes.Pj5zcGFyc2U2PDw6RGdAaUAK.2-in-2.json.gz.tar-best.npz',\n",
       " './volumes/concat_codes/concatcodes.Pj5zcGFyc2U2PDw6RmdAaUBxQH5+Cg==.2-in-3.json.gz.tar-best.npz',\n",
       " './volumes/concat_codes/concatcodes.Pj5zcGFyc2U2PDw6SGM-S2dAaD9MZ0AK.2-in-4.json.gz.tar-best.npz',\n",
       " './volumes/concat_codes/concatcodes.Pj5zcGFyc2U2PDw6SmM-S2dAaD9MZ0BwP05+fgo=.2-in-5.json.gz.tar-best.npz',\n",
       " './volumes/concat_codes/concatcodes.Pj5zcGFyc2U2PDw6TGM-S2dAaD9MZ0BwP01nQAo=.2-in-6.json.gz.tar-best.npz',\n",
       " './volumes/concat_codes/concatcodes.Pj5zcGFyc2U2PDw6TmM-S2dAaD9MZ0BwP01nQHg-Tn5+Cg==.2-in-7.json.gz.tar-best.npz',\n",
       " './volumes/concat_codes/concatcodes.Pj5zcGFyc2U2PDw6RmtASXpfUX5+Cg==.3-in-2.json.gz.tar-best.npz',\n",
       " './volumes/concat_codes/concatcodes.Pj5zcGFyc2U2PDw6SWU-R2hyX0NUak9BSn5+fgo=.3-in-3.json.gz.tar-best.npz',\n",
       " './volumes/concat_codes/concatcodes.Pj5zcGFyc2U2PDw6TGU-R2hyX0NUak9BSk1XQER+fn5+Cg==.3-in-4.json.gz.tar-best.npz',\n",
       " './volumes/concat_codes/concatcodes.Pj5zcGFyc2U2PDw6T2U-R2hyX0NUak9BSk1XQERyYz9hCg==.3-in-5.json.gz.tar-best.npz',\n",
       " './volumes/concat_codes/concatcodes.Pj5zcGFyc2U2PDw6UmI-QEFiYl9AQWVlX0BBaGhfQEFra19AQW5uX0BBfgo=.3-in-6.json.gz.tar-best.npz',\n",
       " './volumes/concat_codes/concatcodes.Pj5zcGFyc2U2PDw6VWI-QEFiYl9AQWVlX0BBaGhfQEFra19AQW5uX0BBcXFfQEF+fgo=.3-in-7.json.gz.tar-best.npz',\n",
       " './volumes/concat_codes/concatcodes.Pj5zcGFyc2U2PDw6SGc-R2BzaFE-UEIK.4-in-2.json.gz.tar-best.npz',\n",
       " './volumes/concat_codes/concatcodes.Pj5zcGFyc2U2PDw6TGc-R2BzaFE-UEJwYkM-YUZ+fn5+Cg==.4-in-3.json.gz.tar-best.npz',\n",
       " './volumes/concat_codes/concatcodes.Pj5zcGFyc2U2PDw6UGM-QEFCY2NjX0BBQmdnZ19AQUJra2tfQEFCfn5+fgo=.4-in-4.json.gz.tar-best.npz',\n",
       " './volumes/concat_codes/concatcodes.Pj5zcGFyc2U2PDw6VGM-QEFCY2NjX0BBQmdnZ19AQUJra2tfQEFCb29vX0BBQn5+fgo=.4-in-5.json.gz.tar-best.npz',\n",
       " './volumes/concat_codes/concatcodes.Pj5zcGFyc2U2PDw6Smk-R2BjalVsV0BDS2Z+fgo=.5-in-2.json.gz.tar-best.npz',\n",
       " './volumes/concat_codes/concatcodes.Pj5zcGFyc2U2PDw6T2k-R2BjalVsV0BDS2VsWXQ-R2BjCg==.5-in-3.json.gz.tar-best.npz',\n",
       " './volumes/concat_codes/concatcodes.Pj5zcGFyc2U2PDw6VGQ-QEFCQ2RkZGRfQEFCQ2lpaWlfQEFCQ25ubm5fQEFCQ35+fgo=.5-in-4.json.gz.tar-best.npz',\n",
       " './volumes/concat_codes/concatcodes.Pj5zcGFyc2U2PDw6WWQ-QEFCQ2RkZGRfQEFCQ2lpaWlfQEFCQ25ubm5fQEFCQ3Nzc3NfQEFCQwo=.5-in-5.json.gz.tar-best.npz']"
      ]
     },
     "execution_count": 198,
     "metadata": {},
     "output_type": "execute_result"
    }
   ],
   "source": [
    "cat_graph_files"
   ]
  },
  {
   "cell_type": "markdown",
   "metadata": {},
   "source": [
    "## 2 Level Codes"
   ]
  },
  {
   "cell_type": "code",
   "execution_count": 208,
   "metadata": {},
   "outputs": [],
   "source": [
    "lvl_graph_files = sorted(glob.glob(\"./volumes/special_felix/*.npz\"), key=lambda s: int(re.findall(r\"kSys(\\d+)\", s)[0]))\n",
    "lvl_graph_data = []\n",
    "lvl_graph_swatch = []\n",
    "for i, fn in enumerate(lvl_graph_files):\n",
    "    npz = np.load(fn)\n",
    "    lvl_graph_data.append(npz[\"qs\"])\n",
    "    lvl_graph_swatch.append(npz[\"graph\"]*0 + i)\n",
    "    \n",
    "lvl_graph_data_all, lvl_graph_swatch_all, _ = maximum_qs(lvl_graph_data, lvl_graph_swatch)"
   ]
  },
  {
   "cell_type": "code",
   "execution_count": 170,
   "metadata": {},
   "outputs": [],
   "source": [
    "qs_comp = lvl_graph_data_all\n",
    "qs_swatch = lvl_graph_swatch_all\n",
    "qs_swatch_lut = [ re.findall(r\"graphcodes\\.(.+)-kSys\", f)[0] for f in lvl_graph_files ]\n",
    "x,y,z = qs_comp.transpose()"
   ]
  },
  {
   "cell_type": "code",
   "execution_count": 164,
   "metadata": {},
   "outputs": [
    {
     "name": "stdout",
     "output_type": "stream",
     "text": [
      "./volumes/special_felix/graphcodes.Pj5zcGFyc2U2PDw6U19gYF9jY19mZl9paV9sbF9fX19+fn5+fgo=-kSys19-kTot20.json.gz.tar-best.npz\n"
     ]
    }
   ],
   "source": [
    "qs_comp = lvl_graph_data[5]\n",
    "print(lvl_graph_files[5])\n",
    "x,y,z = qs_comp.transpose()"
   ]
  },
  {
   "cell_type": "markdown",
   "metadata": {},
   "source": [
    "## 2 Level vs Cat vs Rep"
   ]
  },
  {
   "cell_type": "code",
   "execution_count": 211,
   "metadata": {},
   "outputs": [],
   "source": [
    "qs_comp, qs_swatch, _ = maximum_qs([\n",
    "    lvl_graph_data_all,\n",
    "    rep_graph_data,\n",
    "    cat_graph_data], [\n",
    "    lvl_graph_swatch_all*0 + 0,\n",
    "    rep_graph_swatch*0 + 1, \n",
    "    cat_graph_swatch*0 + 2]\n",
    ")\n",
    "x,y,z = qs_comp.transpose()"
   ]
  },
  {
   "cell_type": "markdown",
   "metadata": {},
   "source": [
    "## Single Code"
   ]
  },
  {
   "cell_type": "code",
   "execution_count": 19,
   "metadata": {},
   "outputs": [
    {
     "name": "stdout",
     "output_type": "stream",
     "text": [
      "./volumes/special_felix/graphcodes.Pj5zcGFyc2U2PDw6U19gYF9jY19mZl9paV9sbF9fX19+fn5+fgo=-kSys19-kTot20.json.gz.tar-best.npz\n"
     ]
    }
   ],
   "source": [
    "f = glob.glob(\"./volumes/special_felix/*kSys19-kTot20*.npz\")[0]\n",
    "print(f)\n",
    "data_comp = np.load(f)\n",
    "qs_comp = data_comp[\"qs\"]\n",
    "x,y,z = qs_comp.transpose()"
   ]
  },
  {
   "cell_type": "markdown",
   "metadata": {},
   "source": [
    "## Plot"
   ]
  },
  {
   "cell_type": "code",
   "execution_count": 16,
   "metadata": {},
   "outputs": [],
   "source": [
    "import mayavi\n",
    "import mayavi.mlab as mlab\n",
    "\n",
    "from scipy import spatial"
   ]
  },
  {
   "cell_type": "code",
   "execution_count": 227,
   "metadata": {},
   "outputs": [],
   "source": [
    "from matplotlib import pyplot\n",
    "\n",
    "# nonlinear color transformation around midpoint\n",
    "from matplotlib.colors import SymLogNorm\n",
    "color_mapper_diff = SymLogNorm(linthresh=.00008, linscale=.00008, vmin=-.1, vmax=.1)\n",
    "color_mapper_swatch = lambda x: x\n",
    "\n",
    "from matplotlib import cm"
   ]
  },
  {
   "cell_type": "code",
   "execution_count": null,
   "metadata": {},
   "outputs": [],
   "source": []
  },
  {
   "cell_type": "markdown",
   "metadata": {},
   "source": [
    "#### Reference Graph"
   ]
  },
  {
   "cell_type": "code",
   "execution_count": 160,
   "metadata": {},
   "outputs": [],
   "source": [
    "data_ref = np.load(\"./volumes/single-letter-best.npz\")\n",
    "qs_ref = data_ref[\"qs\"]"
   ]
  },
  {
   "cell_type": "code",
   "execution_count": null,
   "metadata": {},
   "outputs": [],
   "source": []
  },
  {
   "cell_type": "code",
   "execution_count": 121,
   "metadata": {},
   "outputs": [
    {
     "name": "stdout",
     "output_type": "stream",
     "text": [
      "./volumes/concat_codes/concatcodes.Pj5zcGFyc2U2PDw6WWQ-QEFCQ2RkZGRfQEFCQ2lpaWlfQEFCQ25ubm5fQEFCQ3Nzc3NfQEFCQwo=.5-in-5.json.gz.tar-best.npz\n"
     ]
    }
   ],
   "source": [
    "f = glob.glob(\"./volumes/concat_codes/*5-in-5.*-best.npz\")[0]\n",
    "print(f)\n",
    "data_ref = np.load(f)\n",
    "qs_ref = data_ref[\"qs\"]"
   ]
  },
  {
   "cell_type": "code",
   "execution_count": null,
   "metadata": {},
   "outputs": [],
   "source": []
  },
  {
   "cell_type": "code",
   "execution_count": null,
   "metadata": {},
   "outputs": [],
   "source": []
  },
  {
   "cell_type": "markdown",
   "metadata": {},
   "source": [
    "#### Plot Type"
   ]
  },
  {
   "cell_type": "code",
   "execution_count": 228,
   "metadata": {},
   "outputs": [
    {
     "name": "stdout",
     "output_type": "stream",
     "text": [
      "min -0.00594720111735389 max 0.026736971693860356\n"
     ]
    }
   ],
   "source": [
    "# diff plot\n",
    "diff, min_diff, max_diff, min_pos, max_pos = max_diff_for(qs_comp, qs_ref)\n",
    "\n",
    "dxx, dyy, dzz, dds = [ a.reshape(int(np.sqrt(len(x))), -1) for a in (x, y, z, diff) ]\n",
    "colorspace = np.linspace(-.1, .1, 255)\n",
    "viridis = cm.get_cmap('Spectral')\n",
    "INTERPOLATE = True\n",
    "color_mapper = color_mapper_diff"
   ]
  },
  {
   "cell_type": "code",
   "execution_count": 225,
   "metadata": {},
   "outputs": [],
   "source": [
    "# swatch plot\n",
    "dxx, dyy, dzz, dds = [ a.reshape(int(np.sqrt(len(x))), -1) for a in (x, y, z, qs_swatch/(max(qs_swatch)+1)) ]\n",
    "colorspace = np.linspace(0, 1, 255)\n",
    "viridis = cm.get_cmap('hsv')\n",
    "INTERPOLATE = False\n",
    "color_mapper = color_mapper_swatch"
   ]
  },
  {
   "cell_type": "code",
   "execution_count": null,
   "metadata": {},
   "outputs": [],
   "source": [
    "viridis(color_mapper(colorspace))"
   ]
  },
  {
   "cell_type": "code",
   "execution_count": 214,
   "metadata": {},
   "outputs": [],
   "source": [
    "ANTIALIAS = 8\n",
    "LINEWIDTH = 3\n",
    "\n",
    "mlab.options.offscreen = True\n",
    "mlab.figure(bgcolor=(1,1,1), size=(1024,1024))\n",
    "\n",
    "mesh = mlab.mesh(dxx, dyy, dzz, scalars=dds, colormap=\"Spectral\", opacity=.95)\n",
    "mesh.actor.property.lighting = False\n",
    "mesh.actor.mapper.interpolate_scalars_before_mapping = INTERPOLATE\n",
    "mesh.module_manager.scalar_lut_manager.lut.table = 255*viridis(color_mapper(colorspace))\n",
    "mesh.module_manager.scalar_lut_manager.data_range = (min(colorspace), max(colorspace))\n",
    "\n",
    "AXES_RANGE = .52\n",
    "def draw_line(px, py, pz, color=(0,0,0)):\n",
    "    mlab.plot3d(px, py, pz, line_width=LINEWIDTH*ANTIALIAS, tube_radius=None, color=color)\n",
    "    \n",
    "draw_line((0,AXES_RANGE),(0,0),(0,0))\n",
    "draw_line((0,0),(0,AXES_RANGE),(0,0))\n",
    "draw_line((0,0),(0,0),(0,AXES_RANGE))\n",
    "\n",
    "for i in np.arange(.1, .4, .1):\n",
    "    #bottom\n",
    "    draw_line((i,i),(0,AXES_RANGE),(0,0), color=(.75,.75,.75))\n",
    "    draw_line((0,AXES_RANGE),(i,i),(0,0), color=(.75,.75,.75))\n",
    "    #left\n",
    "    draw_line((i,i),(0,0),(0,AXES_RANGE), color=(.75,.75,.75))\n",
    "    draw_line((0,AXES_RANGE),(0,0),(i,i), color=(.75,.75,.75))\n",
    "    #right\n",
    "    draw_line((0,0),(i,i),(0,AXES_RANGE), color=(.75,.75,.75))\n",
    "    draw_line((0,0),(0,AXES_RANGE),(i,i), color=(.75,.75,.75))\n",
    "\n",
    "\n",
    "draw_line((.5,.5),(0,AXES_RANGE),(0,0), color=(.5,.5,.5))\n",
    "draw_line((0,AXES_RANGE),(.5,.5),(0,0), color=(.5,.5,.5))\n",
    "\n",
    "draw_line((.5,.5),(0,0),(0,AXES_RANGE), color=(.5,.5,.5))\n",
    "draw_line((0,AXES_RANGE),(0,0),(.5,.5), color=(.5,.5,.5))\n",
    "\n",
    "draw_line((0,0),(.5,.5),(0,AXES_RANGE), color=(.5,.5,.5))\n",
    "draw_line((0,0),(0,AXES_RANGE),(.5,.5), color=(.5,.5,.5))\n",
    "\n",
    "# reference\n",
    "if True:\n",
    "    ps = np.arange(0,AXES_RANGE/3,.001)\n",
    "    \n",
    "    mesh = spatial.KDTree(qs_comp)\n",
    "    def min_to_surface(xs, ys, zs):\n",
    "        pts = np.array([xs,ys,zs]).transpose()\n",
    "        dists = [\n",
    "            mesh.query(p)[0] for p in pts\n",
    "        ]\n",
    "        i = np.argsort(dists)[:2]\n",
    "        pa = pts[i[0]]\n",
    "        pb = pts[i[1]]\n",
    "        \n",
    "        if np.linalg.norm(pa) > np.linalg.norm(pb):\n",
    "            return pa.transpose()\n",
    "        return pb.transpose()\n",
    "        \n",
    "    def draw_cross(xs, ys, zs):\n",
    "        x, y, z = min_to_surface(xs, ys, zs)\n",
    "        mlab.points3d(x, y, z, scale_factor=.007*(LINEWIDTH**.25), reset_zoom=False, color=(0,0,0), resolution=20)\n",
    "        \n",
    "    #depolarizing\n",
    "    draw_cross(ps, ps, ps)\n",
    "    #2-pauli\n",
    "    draw_cross(ps, 0.*ps, ps)\n",
    "    #bb84\n",
    "    draw_cross(ps-ps**2, ps**2, ps-ps**2)\n",
    "\n",
    "#colorbar = mlab.colorbar(orientation='vertical', nb_labels=max(qs_swatch)+1)\n",
    "#colorbar.label_text_property.font_family = 'courier'\n",
    "#colorbar.label_text_property.bold = 0\n",
    "#colorbar.label_text_property.font_size=24\n",
    "#colorbar.label_text_property.color = (0,0,0)\n",
    "\n",
    "scene = mlab.gcf().scene\n",
    "scene.parallel_projection = True"
   ]
  },
  {
   "cell_type": "code",
   "execution_count": 215,
   "metadata": {},
   "outputs": [],
   "source": [
    "mlab.savefig(\"/home/jkrb2/Desktop/snapshot.png\", magnification=ANTIALIAS)"
   ]
  },
  {
   "cell_type": "code",
   "execution_count": null,
   "metadata": {},
   "outputs": [],
   "source": []
  },
  {
   "cell_type": "code",
   "execution_count": null,
   "metadata": {},
   "outputs": [],
   "source": []
  },
  {
   "cell_type": "code",
   "execution_count": 172,
   "metadata": {},
   "outputs": [
    {
     "name": "stdout",
     "output_type": "stream",
     "text": [
      "{{ RGBColor[1.0,0.0,0.0], \"Pj5zcGFyc2U2PDw6TWBFS0lTYF17R09gfn5+fgo=\" },{ RGBColor[0.9882,0.961,0.0], \"Pj5zcGFyc2U2PDw6T2BFS0lTYF17TFlgQUZ+fgo=\" },{ RGBColor[0.0312,1.0,0.0], \"Pj5zcGFyc2U2PDw6UF9gYF9jY19mZl9paV9fX19+fgo=\" },{ RGBColor[0.0,1.0,0.9647], \"Pj5zcGFyc2U2PDw6UV9gYF9jY19mZl9paV9sbF9ffgo=\" },{ RGBColor[0.0,0.0625,1.0], \"Pj5zcGFyc2U2PDw6Ul9gYF9jY19mZl9paV9sbF9fXwo=\" },{ RGBColor[0.9335,0.0,1.0], \"Pj5zcGFyc2U2PDw6U19gYF9jY19mZl9paV9sbF9fX19+fn5+fgo=\" }}\n"
     ]
    }
   ],
   "source": [
    "# mathematica exportable graph list for swatch plot\n",
    "mmstr = []\n",
    "for swatch in set(qs_swatch):\n",
    "    r, g, b, a = viridis(color_mapper(swatch/(max(qs_swatch)+1)))\n",
    "    mmstr.append(f\"{{ RGBColor[{round(r, 4)},{round(g, 4)},{round(b, 4)}], \\\"{qs_swatch_lut[swatch]}\\\" }}\")\n",
    "print(\"{\" + \",\".join(mmstr) + \"}\")"
   ]
  },
  {
   "cell_type": "code",
   "execution_count": 33,
   "metadata": {},
   "outputs": [
    {
     "data": {
      "text/plain": [
       "2"
      ]
     },
     "execution_count": 33,
     "metadata": {},
     "output_type": "execute_result"
    }
   ],
   "source": [
    "max(qs_swatch)"
   ]
  },
  {
   "cell_type": "code",
   "execution_count": null,
   "metadata": {},
   "outputs": [],
   "source": []
  }
 ],
 "metadata": {
  "kernelspec": {
   "display_name": "Python 3",
   "language": "python",
   "name": "python3"
  },
  "language_info": {
   "codemirror_mode": {
    "name": "ipython",
    "version": 3
   },
   "file_extension": ".py",
   "mimetype": "text/x-python",
   "name": "python",
   "nbconvert_exporter": "python",
   "pygments_lexer": "ipython3",
   "version": "3.7.4"
  }
 },
 "nbformat": 4,
 "nbformat_minor": 2
}
