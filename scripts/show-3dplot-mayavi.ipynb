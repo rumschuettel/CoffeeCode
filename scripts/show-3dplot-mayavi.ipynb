{
 "cells": [
  {
   "cell_type": "code",
   "execution_count": 1,
   "metadata": {},
   "outputs": [],
   "source": [
    "import numpy as np\n",
    "import math"
   ]
  },
  {
   "cell_type": "markdown",
   "metadata": {},
   "source": [
    "## Reference Data"
   ]
  },
  {
   "cell_type": "code",
   "execution_count": null,
   "metadata": {},
   "outputs": [],
   "source": []
  },
  {
   "cell_type": "markdown",
   "metadata": {},
   "source": [
    "## Run Data"
   ]
  },
  {
   "cell_type": "code",
   "execution_count": 2,
   "metadata": {},
   "outputs": [],
   "source": [
    "def better_mask_for(a, b):\n",
    "    sa = np.sum(a, axis=-1)\n",
    "    sb = np.sum(b, axis=-1)\n",
    "    return sa > sb\n",
    "\n",
    "def max_diff_for(a, b):\n",
    "    sa = np.sum(a, axis=-1)\n",
    "    sb = np.sum(b, axis=-1)\n",
    "    \n",
    "    diff = sa-sb\n",
    "    min_diff = np.min(diff)\n",
    "    max_diff = np.max(diff)\n",
    "    \n",
    "    min_pos = np.amin(diff)\n",
    "    max_pos = np.amax(diff)\n",
    "    \n",
    "    print(\"min\", min_diff, \"max\", max_diff)\n",
    "    \n",
    "    return diff.astype(\"float\"), min_diff, max_diff, min_pos, max_pos\n",
    "\n",
    "# which of the above graph's points protrude further\n",
    "def maximum_qs(qs_list):\n",
    "    best = np.zeros_like(qs_list[0])\n",
    "    \n",
    "    for qs in qs_list:\n",
    "        better_mask = better_mask_for(qs, best)\n",
    "        best[better_mask] = qs[better_mask]\n",
    "        \n",
    "    return best"
   ]
  },
  {
   "cell_type": "code",
   "execution_count": 3,
   "metadata": {},
   "outputs": [],
   "source": [
    "import glob, re\n",
    "import itertools, operator"
   ]
  },
  {
   "cell_type": "markdown",
   "metadata": {},
   "source": [
    "### All Graphs"
   ]
  },
  {
   "cell_type": "markdown",
   "metadata": {
    "collapsed": true
   },
   "source": [
    "### Cat Codes"
   ]
  },
  {
   "cell_type": "markdown",
   "metadata": {},
   "source": [
    "## Plot"
   ]
  },
  {
   "cell_type": "code",
   "execution_count": 4,
   "metadata": {},
   "outputs": [],
   "source": [
    "data_ref = np.load(\"./volumes/single-letter-best.npz\")\n",
    "qs_ref = data_ref[\"qs\"]"
   ]
  },
  {
   "cell_type": "code",
   "execution_count": 209,
   "metadata": {},
   "outputs": [
    {
     "name": "stdout",
     "output_type": "stream",
     "text": [
      "./volumes/concat_codes/concatcodes.Pj5zcGFyc2U2PDw6cl9PR0NBQD9fT0dDQUA-X09HQ0FAP19PR0NBQD9fT0dDQUA-X09HQ0FAP19PR0NBQD9fT0dDQUA-X09Ofn5+fgo=.1-in-50.json.gz.tar-best.npz\n"
     ]
    }
   ],
   "source": [
    "f = glob.glob(\"./volumes/concat_codes/*1-in-50.*-best.npz\")[0]\n",
    "print(f)\n",
    "data_comp = np.load(f)\n",
    "qs_comp = data_comp[\"qs\"]"
   ]
  },
  {
   "cell_type": "code",
   "execution_count": 210,
   "metadata": {},
   "outputs": [
    {
     "name": "stdout",
     "output_type": "stream",
     "text": [
      "min -0.11868817364767964 max 0.15977982400045065\n"
     ]
    }
   ],
   "source": [
    "diff, min_diff, max_diff, min_pos, max_pos = max_diff_for(qs_comp, qs_ref)"
   ]
  },
  {
   "cell_type": "code",
   "execution_count": 211,
   "metadata": {},
   "outputs": [],
   "source": [
    "from matplotlib import pyplot\n",
    "\n",
    "\n",
    "# nonlinear color transformation around midpoint\n",
    "from matplotlib.colors import SymLogNorm\n",
    "color_mapper = SymLogNorm(linthresh=.00008, linscale=.00008, vmin=-.1, vmax=.1)\n",
    "\n",
    "from matplotlib import cm\n",
    "viridis = cm.get_cmap('Spectral')"
   ]
  },
  {
   "cell_type": "code",
   "execution_count": 212,
   "metadata": {},
   "outputs": [],
   "source": [
    "import mayavi\n",
    "import mayavi.mlab as mlab"
   ]
  },
  {
   "cell_type": "code",
   "execution_count": 213,
   "metadata": {},
   "outputs": [],
   "source": [
    "x,y,z = qs_comp.transpose()"
   ]
  },
  {
   "cell_type": "code",
   "execution_count": 214,
   "metadata": {},
   "outputs": [],
   "source": [
    "dxx, dyy, dzz, dds = [ a.reshape(int(np.sqrt(len(x))), -1) for a in (x, y, z, diff) ]"
   ]
  },
  {
   "cell_type": "code",
   "execution_count": 215,
   "metadata": {},
   "outputs": [],
   "source": [
    "ANTIALIAS = 8\n",
    "LINEWIDTH = 2\n",
    "\n",
    "mlab.options.offscreen = True\n",
    "mlab.figure(bgcolor=(1,1,1), size=(1024,1024))\n",
    "\n",
    "mesh = mlab.mesh(dxx, dyy, dzz, scalars=dds, colormap=\"Spectral\", opacity=.95)\n",
    "mesh.actor.property.lighting = False\n",
    "mesh.module_manager.scalar_lut_manager.lut.table = 255*viridis(color_mapper(np.linspace(-.1, .1, 255)))\n",
    "mesh.module_manager.scalar_lut_manager.data_range = (-.1, .1)\n",
    "\n",
    "AXES_RANGE = .52\n",
    "mlab.plot3d((0,AXES_RANGE),(0,0),(0,0),line_width=LINEWIDTH*ANTIALIAS,tube_radius=None, color=(0,0,0))\n",
    "mlab.plot3d((0,0),(0,AXES_RANGE),(0,0),line_width=LINEWIDTH*ANTIALIAS,tube_radius=None, color=(0,0,0))\n",
    "mlab.plot3d((0,0),(0,0),(0,AXES_RANGE),line_width=LINEWIDTH*ANTIALIAS,tube_radius=None, color=(0,0,0))\n",
    "\n",
    "for i in np.arange(.1, .4, .1):\n",
    "    #bottom\n",
    "    mlab.plot3d((i,i),(0,AXES_RANGE),(0,0),line_width=LINEWIDTH*ANTIALIAS,tube_radius=None, color=(.75,.75,.75))\n",
    "    mlab.plot3d((0,AXES_RANGE),(i,i),(0,0),line_width=LINEWIDTH*ANTIALIAS,tube_radius=None, color=(.75,.75,.75))\n",
    "    #left\n",
    "    mlab.plot3d((i,i),(0,0),(0,AXES_RANGE),line_width=LINEWIDTH*ANTIALIAS,tube_radius=None, color=(.75,.75,.75))\n",
    "    mlab.plot3d((0,AXES_RANGE),(0,0),(i,i),line_width=LINEWIDTH*ANTIALIAS,tube_radius=None, color=(.75,.75,.75))\n",
    "    #right\n",
    "    mlab.plot3d((0,0),(i,i),(0,AXES_RANGE),line_width=LINEWIDTH*ANTIALIAS,tube_radius=None, color=(.75,.75,.75))\n",
    "    mlab.plot3d((0,0),(0,AXES_RANGE),(i,i),line_width=LINEWIDTH*ANTIALIAS,tube_radius=None, color=(.75,.75,.75))\n",
    "\n",
    "\n",
    "mlab.plot3d((.5,.5),(0,AXES_RANGE),(0,0),line_width=LINEWIDTH*ANTIALIAS,tube_radius=None, color=(.5,.5,.5))\n",
    "mlab.plot3d((0,AXES_RANGE),(.5,.5),(0,0),line_width=LINEWIDTH*ANTIALIAS,tube_radius=None, color=(.5,.5,.5))\n",
    "\n",
    "mlab.plot3d((.5,.5),(0,0),(0,AXES_RANGE),line_width=LINEWIDTH*ANTIALIAS,tube_radius=None, color=(.5,.5,.5))\n",
    "mlab.plot3d((0,AXES_RANGE),(0,0),(.5,.5),line_width=LINEWIDTH*ANTIALIAS,tube_radius=None, color=(.5,.5,.5))\n",
    "\n",
    "mlab.plot3d((0,0),(.5,.5),(0,AXES_RANGE),line_width=LINEWIDTH*ANTIALIAS,tube_radius=None, color=(.5,.5,.5))\n",
    "mlab.plot3d((0,0),(0,AXES_RANGE),(.5,.5),line_width=LINEWIDTH*ANTIALIAS,tube_radius=None, color=(.5,.5,.5))\n",
    "\n",
    "#colorbar = mlab.colorbar(orientation='vertical', nb_labels=9)\n",
    "#colorbar.label_text_property.font_family = 'courier'\n",
    "#colorbar.label_text_property.bold = 0\n",
    "#colorbar.label_text_property.font_size=24\n",
    "#colorbar.label_text_property.color = (0,0,0)\n",
    "\n",
    "scene = mlab.gcf().scene\n",
    "scene.parallel_projection = True"
   ]
  },
  {
   "cell_type": "code",
   "execution_count": 216,
   "metadata": {},
   "outputs": [],
   "source": [
    "mlab.savefig(\"/home/jkrb2/Desktop/snapshot.png\", magnification=ANTIALIAS)"
   ]
  },
  {
   "cell_type": "code",
   "execution_count": null,
   "metadata": {},
   "outputs": [],
   "source": []
  },
  {
   "cell_type": "code",
   "execution_count": null,
   "metadata": {},
   "outputs": [],
   "source": []
  }
 ],
 "metadata": {
  "kernelspec": {
   "display_name": "Python 3",
   "language": "python",
   "name": "python3"
  },
  "language_info": {
   "codemirror_mode": {
    "name": "ipython",
    "version": 3
   },
   "file_extension": ".py",
   "mimetype": "text/x-python",
   "name": "python",
   "nbconvert_exporter": "python",
   "pygments_lexer": "ipython3",
   "version": "3.5.5"
  }
 },
 "nbformat": 4,
 "nbformat_minor": 2
}
