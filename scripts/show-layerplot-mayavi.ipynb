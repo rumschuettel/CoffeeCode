{
 "cells": [
  {
   "cell_type": "code",
   "execution_count": 2,
   "metadata": {},
   "outputs": [],
   "source": [
    "import numpy as np\n",
    "import math"
   ]
  },
  {
   "cell_type": "markdown",
   "metadata": {},
   "source": [
    "## Reference Data"
   ]
  },
  {
   "cell_type": "code",
   "execution_count": null,
   "metadata": {},
   "outputs": [],
   "source": []
  },
  {
   "cell_type": "markdown",
   "metadata": {},
   "source": [
    "## Run Data"
   ]
  },
  {
   "cell_type": "code",
   "execution_count": 27,
   "metadata": {},
   "outputs": [],
   "source": [
    "def max_diff_for(ci_a, ci_b):\n",
    "    zeros = np.zeros_like(ci_a)\n",
    "        \n",
    "    diff = np.where(ci_a>0, ci_a, zeros) - np.where(ci_b>0, ci_b, zeros)\n",
    "    \n",
    "    min_diff = np.min(diff)\n",
    "    max_diff = np.max(diff)\n",
    "    \n",
    "    min_pos = np.amin(diff)\n",
    "    max_pos = np.amax(diff)\n",
    "    \n",
    "    print(\"min\", min_diff, \"max\", max_diff)\n",
    "    \n",
    "    return diff, min_diff, max_diff, min_pos, max_pos"
   ]
  },
  {
   "cell_type": "code",
   "execution_count": 4,
   "metadata": {},
   "outputs": [],
   "source": [
    "import glob, re\n",
    "import itertools, operator"
   ]
  },
  {
   "cell_type": "markdown",
   "metadata": {},
   "source": [
    "## Load Layer Data"
   ]
  },
  {
   "cell_type": "markdown",
   "metadata": {},
   "source": [
    "#### Individual Code"
   ]
  },
  {
   "cell_type": "code",
   "execution_count": 5,
   "metadata": {},
   "outputs": [
    {
     "name": "stdout",
     "output_type": "stream",
     "text": [
      "./volumes/concat_codes/concatcodes.Pj5zcGFyc2U2PDw6Q2Nmfgo=.1-in-3.json.gz.tar-rate-layers.npz\n"
     ]
    }
   ],
   "source": [
    "f = glob.glob(\"./volumes/concat_codes/*1-in-3*rate-layers.npz\")[0]\n",
    "print(f)\n",
    "data_comp = np.load(f)\n",
    "ci_comp = data_comp[\"ci\"]"
   ]
  },
  {
   "cell_type": "markdown",
   "metadata": {},
   "source": [
    "## Plot"
   ]
  },
  {
   "cell_type": "code",
   "execution_count": 6,
   "metadata": {},
   "outputs": [],
   "source": [
    "import mayavi\n",
    "import mayavi.mlab as mlab\n",
    "\n",
    "from scipy import spatial\n",
    "from scipy.ndimage.morphology import binary_dilation"
   ]
  },
  {
   "cell_type": "code",
   "execution_count": 7,
   "metadata": {},
   "outputs": [],
   "source": [
    "from matplotlib import pyplot\n",
    "\n",
    "# nonlinear color transformation around midpoint\n",
    "from matplotlib.colors import SymLogNorm\n",
    "color_mapper_diff = SymLogNorm(linthresh=.00008, linscale=.00008, vmin=-.1, vmax=.1)\n",
    "color_mapper_swatch = lambda x: x\n",
    "\n",
    "from matplotlib import cm"
   ]
  },
  {
   "cell_type": "code",
   "execution_count": null,
   "metadata": {},
   "outputs": [],
   "source": []
  },
  {
   "cell_type": "markdown",
   "metadata": {},
   "source": [
    "#### Reference Graph"
   ]
  },
  {
   "cell_type": "code",
   "execution_count": 8,
   "metadata": {},
   "outputs": [],
   "source": [
    "data_ref = np.load(\"./volumes/single-letter-layers.npz\")\n",
    "ci_ref = data_ref[\"ci\"]\n",
    "qs_ref = data_ref[\"qs\"]\n",
    "\n",
    "# transpose from LAYER, nx, ny, coordinates\n",
    "# to coordinates, LAYER, nx, ny\n",
    "# so that each of x, y, z are a list of 2d arrays for one plane\n",
    "# compatible with what ci_ref looks like\n",
    "x, y, z = qs_ref.transpose((3,0,1,2))"
   ]
  },
  {
   "cell_type": "markdown",
   "metadata": {},
   "source": [
    "#### Plot Type"
   ]
  },
  {
   "cell_type": "code",
   "execution_count": 43,
   "metadata": {},
   "outputs": [
    {
     "name": "stdout",
     "output_type": "stream",
     "text": [
      "min -0.6666666666666667 max 0.006939535632692599\n"
     ]
    }
   ],
   "source": [
    "# layer plot\n",
    "diff, min_diff, max_diff, min_pos, max_pos = max_diff_for(ci_comp, ci_ref)"
   ]
  },
  {
   "cell_type": "code",
   "execution_count": 10,
   "metadata": {},
   "outputs": [],
   "source": [
    "colorspace = np.linspace(-.1, .1, 255)\n",
    "viridis = cm.get_cmap('Spectral')\n",
    "INTERPOLATE = True\n",
    "color_mapper = color_mapper_diff"
   ]
  },
  {
   "cell_type": "code",
   "execution_count": 45,
   "metadata": {},
   "outputs": [
    {
     "name": "stderr",
     "output_type": "stream",
     "text": [
      "/home/jkrb2/opt/anaconda3/envs/coffeecode/lib/python3.7/site-packages/mayavi/core/utils.py:86: RuntimeWarning: All-NaN axis encountered\n",
      "  res = [float(np.nanmin(x)), float(np.nanmax(x))]\n",
      "Exception occurred in traits notification handler for object: <mayavi.core.lut_manager.LUTManager object at 0x7f12df3d9170>, trait: data_range, old value: [0. 1.], new value: [nan nan]\n",
      "Traceback (most recent call last):\n",
      "  File \"/home/jkrb2/opt/anaconda3/envs/coffeecode/lib/python3.7/site-packages/traits/trait_notifiers.py\", line 394, in __call__\n",
      "    self.handler(*args)\n",
      "  File \"/home/jkrb2/opt/anaconda3/envs/coffeecode/lib/python3.7/site-packages/mayavi/core/lut_manager.py\", line 434, in _data_range_changed\n",
      "    assert value[0] <= value[1]\n",
      "AssertionError\n"
     ]
    }
   ],
   "source": [
    "ANTIALIAS = 8\n",
    "LINEWIDTH = 2\n",
    "\n",
    "mlab.options.offscreen = True\n",
    "mlab.figure(bgcolor=(1,1,1), size=(512,512))\n",
    "\n",
    "for (dxx, dyy, dzz, dss) in zip(x, y, z, diff):\n",
    "    mesh = mlab.mesh(dxx, dyy, dzz, scalars=np.copy(dss), colormap=\"Spectral\", opacity=.95, mask=~binary_dilation(~(dss==0), iterations=10))\n",
    "    mesh.actor.property.lighting = False\n",
    "    mesh.actor.mapper.interpolate_scalars_before_mapping = INTERPOLATE\n",
    "    mesh.module_manager.scalar_lut_manager.lut.table = 255*viridis(color_mapper(colorspace))\n",
    "    mesh.module_manager.scalar_lut_manager.data_range = (min(colorspace), max(colorspace))\n",
    "    mesh.module_manager.scalar_lut_manager.lut.nan_color = 0, 0, 0, 0\n",
    "\n",
    "AXES_RANGE = .52\n",
    "def draw_line(px, py, pz, color=(0,0,0)):\n",
    "    mlab.plot3d(px, py, pz, line_width=LINEWIDTH*ANTIALIAS, tube_radius=None, color=color)\n",
    "    \n",
    "draw_line((0,AXES_RANGE),(0,0),(0,0))\n",
    "draw_line((0,0),(0,AXES_RANGE),(0,0))\n",
    "draw_line((0,0),(0,0),(0,AXES_RANGE))\n",
    "\n",
    "for i in np.arange(.1, .4, .1):\n",
    "    #bottom\n",
    "    draw_line((i,i),(0,AXES_RANGE),(0,0), color=(.75,.75,.75))\n",
    "    draw_line((0,AXES_RANGE),(i,i),(0,0), color=(.75,.75,.75))\n",
    "    #left\n",
    "    draw_line((i,i),(0,0),(0,AXES_RANGE), color=(.75,.75,.75))\n",
    "    draw_line((0,AXES_RANGE),(0,0),(i,i), color=(.75,.75,.75))\n",
    "    #right\n",
    "    draw_line((0,0),(i,i),(0,AXES_RANGE), color=(.75,.75,.75))\n",
    "    draw_line((0,0),(0,AXES_RANGE),(i,i), color=(.75,.75,.75))\n",
    "\n",
    "\n",
    "draw_line((.5,.5),(0,AXES_RANGE),(0,0), color=(.5,.5,.5))\n",
    "draw_line((0,AXES_RANGE),(.5,.5),(0,0), color=(.5,.5,.5))\n",
    "\n",
    "draw_line((.5,.5),(0,0),(0,AXES_RANGE), color=(.5,.5,.5))\n",
    "draw_line((0,AXES_RANGE),(0,0),(.5,.5), color=(.5,.5,.5))\n",
    "\n",
    "draw_line((0,0),(.5,.5),(0,AXES_RANGE), color=(.5,.5,.5))\n",
    "draw_line((0,0),(0,AXES_RANGE),(.5,.5), color=(.5,.5,.5))\n",
    "\n",
    "# reference\n",
    "if False:\n",
    "    ps = np.arange(0,AXES_RANGE/3,.001)\n",
    "    \n",
    "    mesh = spatial.KDTree(qs_comp)\n",
    "    def min_to_surface(xs, ys, zs):\n",
    "        pts = np.array([xs,ys,zs]).transpose()\n",
    "        dists = [\n",
    "            mesh.query(p)[0] for p in pts\n",
    "        ]\n",
    "        i = np.argsort(dists)[:2]\n",
    "        pa = pts[i[0]]\n",
    "        pb = pts[i[1]]\n",
    "        \n",
    "        if np.linalg.norm(pa) > np.linalg.norm(pb):\n",
    "            return pa.transpose()\n",
    "        return pb.transpose()\n",
    "        \n",
    "    def draw_cross(xs, ys, zs):\n",
    "        x, y, z = min_to_surface(xs, ys, zs)\n",
    "        mlab.points3d(x, y, z, scale_factor=.007*(LINEWIDTH**.25), reset_zoom=False, color=(0,0,0), resolution=20)\n",
    "        \n",
    "    #depolarizing\n",
    "    draw_cross(ps, ps, ps)\n",
    "    #2-pauli\n",
    "    draw_cross(ps, 0.*ps, ps)\n",
    "    #bb84\n",
    "    draw_cross(ps-ps**2, ps**2, ps-ps**2)\n",
    "\n",
    "scene = mlab.gcf().scene\n",
    "scene.parallel_projection = True"
   ]
  },
  {
   "cell_type": "code",
   "execution_count": 48,
   "metadata": {},
   "outputs": [],
   "source": [
    "mlab.savefig(\"/home/jkrb2/Desktop/snapshot.png\", magnification=ANTIALIAS)"
   ]
  },
  {
   "cell_type": "code",
   "execution_count": null,
   "metadata": {},
   "outputs": [],
   "source": []
  },
  {
   "cell_type": "code",
   "execution_count": null,
   "metadata": {},
   "outputs": [],
   "source": []
  },
  {
   "cell_type": "code",
   "execution_count": null,
   "metadata": {},
   "outputs": [],
   "source": []
  }
 ],
 "metadata": {
  "kernelspec": {
   "display_name": "Python 3",
   "language": "python",
   "name": "python3"
  },
  "language_info": {
   "codemirror_mode": {
    "name": "ipython",
    "version": 3
   },
   "file_extension": ".py",
   "mimetype": "text/x-python",
   "name": "python",
   "nbconvert_exporter": "python",
   "pygments_lexer": "ipython3",
   "version": "3.7.4"
  }
 },
 "nbformat": 4,
 "nbformat_minor": 2
}
